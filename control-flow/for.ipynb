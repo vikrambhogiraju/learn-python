{
 "metadata": {
  "language_info": {
   "codemirror_mode": {
    "name": "ipython",
    "version": 3
   },
   "file_extension": ".py",
   "mimetype": "text/x-python",
   "name": "python",
   "nbconvert_exporter": "python",
   "pygments_lexer": "ipython3",
   "version": "3.9.4"
  },
  "orig_nbformat": 2,
  "kernelspec": {
   "name": "python394jvsc74a57bd0ac59ebe37160ed0dfa835113d9b8498d9f09ceb179beaac4002f036b9467c963",
   "display_name": "Python 3.9.4 64-bit"
  },
  "metadata": {
   "interpreter": {
    "hash": "ac59ebe37160ed0dfa835113d9b8498d9f09ceb179beaac4002f036b9467c963"
   }
  }
 },
 "nbformat": 4,
 "nbformat_minor": 2,
 "cells": [
  {
   "source": [
    "# for statement\n",
    "\n",
    "for statement iterates over items of any sequence (a list or a string) in order that they appear in the index."
   ],
   "cell_type": "markdown",
   "metadata": {}
  },
  {
   "cell_type": "code",
   "execution_count": 1,
   "metadata": {},
   "outputs": [
    {
     "output_type": "stream",
     "name": "stdout",
     "text": [
      "cat 3\nwindow 6\ndefenestrate 12\n"
     ]
    }
   ],
   "source": [
    "words = ['cat', 'window', 'defenestrate']\n",
    "for w in words:\n",
    "    print(w, len(w))"
   ]
  },
  {
   "source": [
    "# range function\n",
    "\n",
    "Built-in function range() generates arithmatic progressions"
   ],
   "cell_type": "markdown",
   "metadata": {}
  },
  {
   "cell_type": "code",
   "execution_count": 2,
   "metadata": {},
   "outputs": [
    {
     "output_type": "stream",
     "name": "stdout",
     "text": [
      "0\n1\n2\n3\n4\n"
     ]
    }
   ],
   "source": [
    "for i in range(5):\n",
    "    print(i)"
   ]
  },
  {
   "cell_type": "code",
   "execution_count": 3,
   "metadata": {},
   "outputs": [],
   "source": [
    "# Simple function to print a list as comma-separated values\n",
    "def print_list(items):\n",
    "    for item in items:\n",
    "        print(item, end=', ')\n",
    "    print()\n"
   ]
  },
  {
   "cell_type": "code",
   "execution_count": 6,
   "metadata": {},
   "outputs": [
    {
     "output_type": "stream",
     "name": "stdout",
     "text": [
      "range(5) = 0, 1, 2, 3, 4, \n"
     ]
    }
   ],
   "source": [
    "print('range(5) = ', end='')\n",
    "print_list(range(5))"
   ]
  },
  {
   "cell_type": "code",
   "execution_count": 7,
   "metadata": {},
   "outputs": [
    {
     "output_type": "stream",
     "name": "stdout",
     "text": [
      "range(5, 10) = 5, 6, 7, 8, 9, \n"
     ]
    }
   ],
   "source": [
    "print('range(5, 10) = ', end='')\n",
    "print_list(range(5, 10))"
   ]
  },
  {
   "cell_type": "code",
   "execution_count": 8,
   "metadata": {},
   "outputs": [
    {
     "output_type": "stream",
     "name": "stdout",
     "text": [
      "range(0, 10, 3) = 0, 3, 6, 9, \n"
     ]
    }
   ],
   "source": [
    "print('range(0, 10, 3) = ', end='')\n",
    "print_list(range(0, 10, 3))"
   ]
  },
  {
   "cell_type": "code",
   "execution_count": 9,
   "metadata": {},
   "outputs": [
    {
     "output_type": "stream",
     "name": "stdout",
     "text": [
      "range(-10, -100, -30) = -10, -40, -70, \n"
     ]
    }
   ],
   "source": [
    "print('range(-10, -100, -30) = ', end='')\n",
    "print_list(range(-10, -100, -30))"
   ]
  },
  {
   "cell_type": "code",
   "execution_count": 10,
   "metadata": {},
   "outputs": [
    {
     "output_type": "stream",
     "name": "stdout",
     "text": [
      "0 Mary\n1 had\n2 a\n3 little\n4 lamb\n"
     ]
    }
   ],
   "source": [
    "# To iterate over indexes of a list, you can use both len() and range()\n",
    "a = ['Mary', 'had', 'a', 'little', 'lamb']\n",
    "for i in range(len(a)):\n",
    "    print(i, a[i])"
   ]
  },
  {
   "cell_type": "code",
   "execution_count": 11,
   "metadata": {},
   "outputs": [
    {
     "output_type": "stream",
     "name": "stdout",
     "text": [
      "range(0, 10)\n"
     ]
    }
   ],
   "source": [
    "print(range(10)) # range() returns a range iterable object"
   ]
  },
  {
   "cell_type": "code",
   "execution_count": 12,
   "metadata": {},
   "outputs": [
    {
     "output_type": "execute_result",
     "data": {
      "text/plain": [
       "6"
      ]
     },
     "metadata": {},
     "execution_count": 12
    }
   ],
   "source": [
    "# Iterable objects produce next value\n",
    "# Some functions take iterable object e.g. sum\n",
    "sum(range(4)) # 0 + 1 + 2 + 3"
   ]
  },
  {
   "cell_type": "code",
   "execution_count": 13,
   "metadata": {},
   "outputs": [
    {
     "output_type": "execute_result",
     "data": {
      "text/plain": [
       "[0, 1, 2, 3]"
      ]
     },
     "metadata": {},
     "execution_count": 13
    }
   ],
   "source": [
    "list(range(4)) # list() takes an iterable and creates a list"
   ]
  },
  {
   "source": [
    "# break, continue and else statements in Loops"
   ],
   "cell_type": "markdown",
   "metadata": {}
  },
  {
   "source": [
    "Loops statements may have an else clause\n",
    "\n",
    "It is executed when:\n",
    "    exhaustion of iterable (with for)\n",
    "    condition becomes false (with while) i.e. when loop is not terminated by a break statement"
   ],
   "cell_type": "markdown",
   "metadata": {}
  },
  {
   "cell_type": "code",
   "execution_count": 14,
   "metadata": {},
   "outputs": [
    {
     "output_type": "stream",
     "name": "stdout",
     "text": [
      "2  is a prime number\n3  is a prime number\n4 equals 2 * 2.0\n5  is a prime number\n6 equals 2 * 3.0\n7  is a prime number\n8 equals 2 * 4.0\n9 equals 3 * 3.0\n"
     ]
    }
   ],
   "source": [
    "for n in range(2, 10):\n",
    "    for x in range(2, n):\n",
    "        if n % x == 0:\n",
    "            print(n, 'equals', x, '*', n/x)\n",
    "            break\n",
    "    else:\n",
    "        # Loop fell through without finding a factor\n",
    "        print(n, ' is a prime number')\n"
   ]
  },
  {
   "source": [
    "continue statement continues with next iteration of the loop"
   ],
   "cell_type": "markdown",
   "metadata": {}
  },
  {
   "cell_type": "code",
   "execution_count": 15,
   "metadata": {},
   "outputs": [
    {
     "output_type": "stream",
     "name": "stdout",
     "text": [
      "Found an even number: 2\nFound an odd number 3\nFound an even number: 4\nFound an odd number 5\nFound an even number: 6\nFound an odd number 7\nFound an even number: 8\nFound an odd number 9\n"
     ]
    }
   ],
   "source": [
    "for num in range(2, 10):\n",
    "    if num % 2 == 0:\n",
    "        print('Found an even number:', num)\n",
    "        continue\n",
    "    print('Found an odd number', num)"
   ]
  },
  {
   "source": [
    "# pass statement does nothing\n",
    "``` python\n",
    "while True:\n",
    "    pass # Busy-wait for keyboard interrupt (Ctrl-C)\n",
    "```"
   ],
   "cell_type": "markdown",
   "metadata": {}
  }
 ]
}