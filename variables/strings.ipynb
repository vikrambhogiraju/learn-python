{
 "metadata": {
  "language_info": {
   "codemirror_mode": {
    "name": "ipython",
    "version": 3
   },
   "file_extension": ".py",
   "mimetype": "text/x-python",
   "name": "python",
   "nbconvert_exporter": "python",
   "pygments_lexer": "ipython3",
   "version": "3.9.4"
  },
  "orig_nbformat": 2,
  "kernelspec": {
   "name": "python394jvsc74a57bd0ac59ebe37160ed0dfa835113d9b8498d9f09ceb179beaac4002f036b9467c963",
   "display_name": "Python 3.9.4 64-bit"
  },
  "metadata": {
   "interpreter": {
    "hash": "ac59ebe37160ed0dfa835113d9b8498d9f09ceb179beaac4002f036b9467c963"
   }
  }
 },
 "nbformat": 4,
 "nbformat_minor": 2,
 "cells": [
  {
   "source": [
    "# Strings\n",
    "\n"
   ],
   "cell_type": "markdown",
   "metadata": {}
  },
  {
   "cell_type": "code",
   "execution_count": 45,
   "metadata": {},
   "outputs": [
    {
     "output_type": "execute_result",
     "data": {
      "text/plain": [
       "'spam eggs'"
      ]
     },
     "metadata": {},
     "execution_count": 45
    }
   ],
   "source": [
    "# Strings can be enclosed in single quotes ('...') or double quotes (\"...\")\n",
    "'spam eggs'"
   ]
  },
  {
   "cell_type": "code",
   "execution_count": 46,
   "metadata": {},
   "outputs": [
    {
     "output_type": "execute_result",
     "data": {
      "text/plain": [
       "\"doesn't\""
      ]
     },
     "metadata": {},
     "execution_count": 46
    }
   ],
   "source": [
    "'doesn\\'t' # use \\' to escape the single quote..."
   ]
  },
  {
   "cell_type": "code",
   "execution_count": 47,
   "metadata": {},
   "outputs": [
    {
     "output_type": "execute_result",
     "data": {
      "text/plain": [
       "\"doesn't\""
      ]
     },
     "metadata": {},
     "execution_count": 47
    }
   ],
   "source": [
    "\"doesn't\" # ... or use double quotes instead"
   ]
  },
  {
   "cell_type": "code",
   "execution_count": 48,
   "metadata": {},
   "outputs": [
    {
     "output_type": "stream",
     "name": "stdout",
     "text": [
      "\"Isn't,\" they said.\n"
     ]
    }
   ],
   "source": [
    "# The print() function produces more readable output, by omitting enclosing quotes and by printing escaped and special characters\n",
    "print('\"Isn\\'t,\" they said.')"
   ]
  },
  {
   "cell_type": "code",
   "execution_count": 49,
   "metadata": {},
   "outputs": [
    {
     "output_type": "execute_result",
     "data": {
      "text/plain": [
       "'First line. \\nSecond line.'"
      ]
     },
     "metadata": {},
     "execution_count": 49
    }
   ],
   "source": [
    "s = 'First line. \\nSecond line.'\n",
    "s # without print(), \\n is included in the output"
   ]
  },
  {
   "cell_type": "code",
   "execution_count": 50,
   "metadata": {},
   "outputs": [
    {
     "output_type": "stream",
     "name": "stdout",
     "text": [
      "First line. \nSecond line.\n"
     ]
    }
   ],
   "source": [
    "print(s) # With print(), \\n produces a new line"
   ]
  },
  {
   "cell_type": "code",
   "execution_count": 51,
   "metadata": {},
   "outputs": [
    {
     "output_type": "stream",
     "name": "stdout",
     "text": [
      "C:\\some\name\n"
     ]
    }
   ],
   "source": [
    "print('C:\\some\\name') # Here \\n means new line!"
   ]
  },
  {
   "cell_type": "code",
   "execution_count": 52,
   "metadata": {},
   "outputs": [
    {
     "output_type": "stream",
     "name": "stdout",
     "text": [
      "C:\\some\\name\n"
     ]
    }
   ],
   "source": [
    "# If you do not want characters prefaced by \\ to be interpreted as special characters, you can use raw strings by adding an r before first quote:\n",
    "print(r'C:\\some\\name') # note the r before the quote"
   ]
  },
  {
   "cell_type": "code",
   "execution_count": 53,
   "metadata": {},
   "outputs": [
    {
     "output_type": "stream",
     "name": "stdout",
     "text": [
      "Usage: thingy [OPTIONS]\n    -h                      Display this usage message\n    -H hostname             Hostname to connect to\n\n"
     ]
    }
   ],
   "source": [
    "# use triple quotes (\"\"\"...\"\"\" or '''...''') to span multiple lines. \n",
    "# Add a backlash to prevent end of line to be automatically included\n",
    "print(\"\"\"\\\n",
    "Usage: thingy [OPTIONS]\n",
    "    -h                      Display this usage message\n",
    "    -H hostname             Hostname to connect to\n",
    "\"\"\")"
   ]
  },
  {
   "cell_type": "code",
   "execution_count": 54,
   "metadata": {},
   "outputs": [
    {
     "output_type": "execute_result",
     "data": {
      "text/plain": [
       "'unununium'"
      ]
     },
     "metadata": {},
     "execution_count": 54
    }
   ],
   "source": [
    "# 3 times 'un', followed by 'ium\n",
    "3 * 'un' + 'ium'"
   ]
  },
  {
   "cell_type": "code",
   "execution_count": 55,
   "metadata": {},
   "outputs": [
    {
     "output_type": "execute_result",
     "data": {
      "text/plain": [
       "'Python'"
      ]
     },
     "metadata": {},
     "execution_count": 55
    }
   ],
   "source": [
    "# Two or more string literals next to each other are automatically concatenated.\n",
    "'Py' 'thon'"
   ]
  },
  {
   "cell_type": "code",
   "execution_count": 56,
   "metadata": {},
   "outputs": [
    {
     "output_type": "execute_result",
     "data": {
      "text/plain": [
       "'Put several strings within parantheses to have them joined together.'"
      ]
     },
     "metadata": {},
     "execution_count": 56
    }
   ],
   "source": [
    "# This feature is particularly useful when you want to break long strings.\n",
    "text = ('Put several strings within parantheses '\n",
    "        'to have them joined together.')\n",
    "text"
   ]
  },
  {
   "cell_type": "code",
   "execution_count": 57,
   "metadata": {},
   "outputs": [
    {
     "output_type": "execute_result",
     "data": {
      "text/plain": [
       "'Python'"
      ]
     },
     "metadata": {},
     "execution_count": 57
    }
   ],
   "source": [
    "# But to concatenate variables or a variable and a literal, use +:\n",
    "prefix = 'Py'\n",
    "prefix + 'thon'"
   ]
  },
  {
   "source": [
    "# Strings are subscripted with first character having index 0.\n",
    "word = 'Python'\n",
    "print('word[0] =', word[0]) # character in position 0\n",
    "print('word[5] =', word[5]) # character in postion 5"
   ],
   "cell_type": "code",
   "metadata": {},
   "execution_count": 58,
   "outputs": [
    {
     "output_type": "stream",
     "name": "stdout",
     "text": [
      "word[0] = P\nword[5] = n\n"
     ]
    }
   ]
  },
  {
   "cell_type": "code",
   "execution_count": 59,
   "metadata": {},
   "outputs": [
    {
     "output_type": "stream",
     "name": "stdout",
     "text": [
      "word[-1] = n\nword[-2] = o\nword[-5] = P\n"
     ]
    }
   ],
   "source": [
    "# Indices may also be negative numbers, to start counting from the right:\n",
    "print('word[-1] =', word[-1]) # last character\n",
    "print('word[-2] =', word[-2]) # second-last character\n",
    "print('word[-5] =', word[-6]) "
   ]
  },
  {
   "cell_type": "code",
   "execution_count": 60,
   "metadata": {},
   "outputs": [
    {
     "output_type": "stream",
     "name": "stdout",
     "text": [
      "word[0:2] = Py\nword[2:5] = tho\n"
     ]
    }
   ],
   "source": [
    "# Slicing is also supported\n",
    "print('word[0:2] =', word[0:2])\n",
    "print('word[2:5] =', word[2:5])"
   ]
  },
  {
   "cell_type": "code",
   "execution_count": 61,
   "metadata": {},
   "outputs": [
    {
     "output_type": "stream",
     "name": "stdout",
     "text": [
      "word[:2] = Py\nword[4:] = on\nword[-2:] = on\n"
     ]
    }
   ],
   "source": [
    "# Slide indices have useful defaults; an omitted first index defaults to zero, an omitter second index defaults to the size of the string being sliced\n",
    "print('word[:2] =', word[:2])\n",
    "print('word[4:] =', word[4:])\n",
    "print('word[-2:] =', word[-2:])"
   ]
  },
  {
   "cell_type": "code",
   "execution_count": 62,
   "metadata": {},
   "outputs": [
    {
     "output_type": "stream",
     "name": "stdout",
     "text": [
      "word[4:42] = on\nword[42:] = \n"
     ]
    }
   ],
   "source": [
    "# Out of range slice indexes are handled gracefully\n",
    "print('word[4:42] =', word[4:42])\n",
    "print('word[42:] =', word[42:])"
   ]
  },
  {
   "cell_type": "code",
   "execution_count": 63,
   "metadata": {},
   "outputs": [
    {
     "output_type": "execute_result",
     "data": {
      "text/plain": [
       "32"
      ]
     },
     "metadata": {},
     "execution_count": 63
    }
   ],
   "source": [
    "# The built-in function len() returns the length of a string:\n",
    "s = 'supercalifragilisticexpialicious'\n",
    "len(s)"
   ]
  }
 ]
}