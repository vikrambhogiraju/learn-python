{
 "metadata": {
  "language_info": {
   "codemirror_mode": {
    "name": "ipython",
    "version": 3
   },
   "file_extension": ".py",
   "mimetype": "text/x-python",
   "name": "python",
   "nbconvert_exporter": "python",
   "pygments_lexer": "ipython3",
   "version": "3.8.5"
  },
  "orig_nbformat": 2,
  "kernelspec": {
   "name": "python385jvsc74a57bd00f9af235ba46fbba07bca8ed3f51e71b873e31f08ff289d0ae9addab7ce434b2",
   "display_name": "Python 3.8.5 64-bit"
  }
 },
 "nbformat": 4,
 "nbformat_minor": 2,
 "cells": [
  {
   "source": [
    "# Unpacking Argument Lists\n",
    "\n",
    "When the arguments are already in a list or tuple, they can be unpacked to send the elements as arguments to a function"
   ],
   "cell_type": "markdown",
   "metadata": {}
  },
  {
   "cell_type": "code",
   "execution_count": 1,
   "metadata": {},
   "outputs": [
    {
     "output_type": "execute_result",
     "data": {
      "text/plain": [
       "[5, 6, 7, 8, 9]"
      ]
     },
     "metadata": {},
     "execution_count": 1
    }
   ],
   "source": [
    "list(range(5, 10)) # Normal call with two args: 5, 10"
   ]
  },
  {
   "cell_type": "code",
   "execution_count": 2,
   "metadata": {},
   "outputs": [
    {
     "output_type": "execute_result",
     "data": {
      "text/plain": [
       "[5, 6, 7, 8, 9]"
      ]
     },
     "metadata": {},
     "execution_count": 2
    }
   ],
   "source": [
    "args = [5, 10] # Arguments are in a list\n",
    "list(range(*args)) # Unpack to list using *-, to pass the elements as args to range()"
   ]
  },
  {
   "source": [
    "Similarly, dicts can be unpacked to deliver kw-args with a **-operator"
   ],
   "cell_type": "markdown",
   "metadata": {}
  },
  {
   "cell_type": "code",
   "execution_count": 3,
   "metadata": {},
   "outputs": [
    {
     "output_type": "stream",
     "name": "stdout",
     "text": [
      "-- This parrot wouldn't VOOM  if you put four million volts through it.\n-- Lovely plumage, the Norwegian Blue\n-- It's bleedin' demised !\n"
     ]
    }
   ],
   "source": [
    "from parrot import parrot # refer ./parrot.py\n",
    "\n",
    "d = {\"voltage\": \"four million\", \"state\":\"bleedin' demised\", \"action\":\"VOOM\"}\n",
    "parrot(**d) # Use **-operator to unpack d\n"
   ]
  }
 ]
}