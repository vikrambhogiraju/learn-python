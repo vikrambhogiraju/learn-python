{
 "metadata": {
  "language_info": {
   "codemirror_mode": {
    "name": "ipython",
    "version": 3
   },
   "file_extension": ".py",
   "mimetype": "text/x-python",
   "name": "python",
   "nbconvert_exporter": "python",
   "pygments_lexer": "ipython3",
   "version": "3.8.5"
  },
  "orig_nbformat": 2,
  "kernelspec": {
   "name": "python385jvsc74a57bd00f9af235ba46fbba07bca8ed3f51e71b873e31f08ff289d0ae9addab7ce434b2",
   "display_name": "Python 3.8.5 64-bit"
  }
 },
 "nbformat": 4,
 "nbformat_minor": 2,
 "cells": [
  {
   "source": [
    "# Arbitrary Argument Lists\n",
    "\n",
    "A function can be called with an arbitrary number of arguments(variadic args). Before the variadic arguments, zero or more normal arguments may occur."
   ],
   "cell_type": "markdown",
   "metadata": {}
  },
  {
   "cell_type": "code",
   "execution_count": 4,
   "metadata": {},
   "outputs": [],
   "source": [
    "# Normal args before variable number of args\n",
    "def print_multiple_times(count, separator, *args):\n",
    "    '''\n",
    "    Print variable number of arguments by joining them using a separator multiple times\n",
    "    Args:\n",
    "        count - # of times to print\n",
    "        separator - separator character to be used to join variable args\n",
    "        args - variable number of arguments\n",
    "    '''\n",
    "    print(count * ('\\n' + separator.join(args)))"
   ]
  },
  {
   "cell_type": "code",
   "execution_count": 5,
   "metadata": {},
   "outputs": [
    {
     "output_type": "stream",
     "name": "stdout",
     "text": [
      "\nearth,mars,venus\nearth,mars,venus\nearth,mars,venus\nearth,mars,venus\nearth,mars,venus\n"
     ]
    }
   ],
   "source": [
    "print_multiple_times(5, ',', \"earth\", \"mars\", \"venus\") # prints \"earth,mars,venus\" five times"
   ]
  },
  {
   "source": [
    "Any formal arguments which appear after the variadic arguments parameter are 'keyword-only' arguments"
   ],
   "cell_type": "markdown",
   "metadata": {}
  },
  {
   "cell_type": "code",
   "execution_count": 7,
   "metadata": {},
   "outputs": [],
   "source": [
    "# Only Keyword arguments appear after variadic args\n",
    "def concat(*args, sep='/'):\n",
    "    return sep.join(args) "
   ]
  },
  {
   "cell_type": "code",
   "execution_count": 8,
   "metadata": {},
   "outputs": [
    {
     "output_type": "execute_result",
     "data": {
      "text/plain": [
       "'earth/mars/venus'"
      ]
     },
     "metadata": {},
     "execution_count": 8
    }
   ],
   "source": [
    "concat(\"earth\", \"mars\", \"venus\")"
   ]
  },
  {
   "cell_type": "code",
   "execution_count": 9,
   "metadata": {},
   "outputs": [
    {
     "output_type": "execute_result",
     "data": {
      "text/plain": [
       "'earth/mars/venus/mercury'"
      ]
     },
     "metadata": {},
     "execution_count": 9
    }
   ],
   "source": [
    "concat(\"earth\", \"mars\", \"venus\", \"mercury\")"
   ]
  },
  {
   "cell_type": "code",
   "execution_count": 10,
   "metadata": {},
   "outputs": [
    {
     "output_type": "execute_result",
     "data": {
      "text/plain": [
       "'earth,mars,venus,mercury'"
      ]
     },
     "metadata": {},
     "execution_count": 10
    }
   ],
   "source": [
    "concat(\"earth\", \"mars\", \"venus\", \"mercury\", sep=',')"
   ]
  }
 ]
}