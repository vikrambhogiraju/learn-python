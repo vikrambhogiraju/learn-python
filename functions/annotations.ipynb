{
 "metadata": {
  "language_info": {
   "codemirror_mode": {
    "name": "ipython",
    "version": 3
   },
   "file_extension": ".py",
   "mimetype": "text/x-python",
   "name": "python",
   "nbconvert_exporter": "python",
   "pygments_lexer": "ipython3",
   "version": "3.8.5"
  },
  "orig_nbformat": 2,
  "kernelspec": {
   "name": "python385jvsc74a57bd00f9af235ba46fbba07bca8ed3f51e71b873e31f08ff289d0ae9addab7ce434b2",
   "display_name": "Python 3.8.5 64-bit"
  }
 },
 "nbformat": 4,
 "nbformat_minor": 2,
 "cells": [
  {
   "source": [
    "# Function Annotations\n",
    "\n",
    "Function Annotations are completely optional metadata information about the types used by user-defined functions\n",
    "\n",
    "Parameter Annotations are defined by a colon after the Parameter name, followed by an expression evaluating to the value of the annotation.\n",
    "\n",
    "Return Annotations are defined by a literal ->, followed by an expressionl between parameter list and the colon denoting the end of the def statement."
   ],
   "cell_type": "markdown",
   "metadata": {}
  },
  {
   "cell_type": "code",
   "execution_count": 2,
   "metadata": {},
   "outputs": [],
   "source": [
    "def f(ham: str, eggs: str = 'eggs') -> str:\n",
    "    print('Annotations:', f.__annotations__)\n",
    "    print('Arguments:', ham, eggs)\n",
    "    return ham + ' and ' + eggs"
   ]
  },
  {
   "cell_type": "code",
   "execution_count": 3,
   "metadata": {},
   "outputs": [
    {
     "output_type": "stream",
     "name": "stdout",
     "text": [
      "Annotations: {'ham': <class 'str'>, 'eggs': <class 'str'>, 'return': <class 'str'>}\nArguments: spam eggs\n"
     ]
    },
    {
     "output_type": "execute_result",
     "data": {
      "text/plain": [
       "'spam and eggs'"
      ]
     },
     "metadata": {},
     "execution_count": 3
    }
   ],
   "source": [
    "f('spam')"
   ]
  }
 ]
}